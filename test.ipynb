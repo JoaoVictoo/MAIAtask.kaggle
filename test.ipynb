import pandas as pd
import numpy as np 

train = df = pd.read_csv("C:/Users/Satoshii/Desktop\All/Titanic/PréSUP/trainSUP")
train.head()
